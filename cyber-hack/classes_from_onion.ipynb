{
 "cells": [
  {
   "cell_type": "code",
   "execution_count": 10,
   "metadata": {},
   "outputs": [
    {
     "name": "stdout",
     "output_type": "stream",
     "text": [
      "Tag: h1, Classes: has-link-color wp-elements-6e2a65dd12acc40980a1d5257b20a387 wp-block-post-title has-text-color has-primary-2-color has-bravo-font-size has-rocky-compressed-font-family\n",
      "Tag: h3, Classes: wp-block-heading has-text-align-center has-shade-3-color has-text-color has-link-color has-tablet-gothic-condensed-font-family has-echo-font-size wp-elements-170ffdc9179dfea7156023d845196a29\n",
      "Tag: h2, Classes: has-link-color wp-elements-43ca9d37d45fede054c7ad31244172d0 wp-block-post-title has-text-color has-primary-2-color has-echo-font-size\n",
      "Tag: h2, Classes: has-link-color wp-elements-43ca9d37d45fede054c7ad31244172d0 wp-block-post-title has-text-color has-primary-2-color has-echo-font-size\n",
      "Tag: h2, Classes: has-link-color wp-elements-43ca9d37d45fede054c7ad31244172d0 wp-block-post-title has-text-color has-primary-2-color has-echo-font-size\n",
      "Tag: h2, Classes: has-link-color wp-elements-43ca9d37d45fede054c7ad31244172d0 wp-block-post-title has-text-color has-primary-2-color has-echo-font-size\n",
      "Tag: h3, Classes: has-text-align-center wp-block-post-title has-foxtrot-font-size has-tablet-gothic-condensed-font-family\n",
      "Tag: h3, Classes: has-text-align-center wp-block-post-title has-foxtrot-font-size has-tablet-gothic-condensed-font-family\n",
      "Tag: h3, Classes: has-text-align-center wp-block-post-title has-foxtrot-font-size has-tablet-gothic-condensed-font-family\n",
      "Tag: h3, Classes: has-text-align-center wp-block-post-title has-foxtrot-font-size has-tablet-gothic-condensed-font-family\n",
      "Tag: h2, Classes: has-link-color wp-elements-e8d20543ff9501bc9ed7bea161e3ad5b wp-block-post-title has-text-color has-primary-2-color has-delta-font-size\n",
      "Tag: h2, Classes: has-link-color wp-elements-e8d20543ff9501bc9ed7bea161e3ad5b wp-block-post-title has-text-color has-primary-2-color has-delta-font-size\n",
      "Tag: h3, Classes: wp-block-heading has-text-align-center has-shade-3-color has-text-color has-link-color has-tablet-gothic-condensed-font-family has-echo-font-size wp-elements-c3e8c1f58d14eb94c2882b87bffec6f1\n",
      "Tag: h2, Classes: has-link-color wp-elements-26ab4907aced4ecae669fe90cecc2dab wp-block-post-title has-text-color has-primary-2-color has-delta-font-size\n",
      "Tag: h2, Classes: has-link-color wp-elements-26ab4907aced4ecae669fe90cecc2dab wp-block-post-title has-text-color has-primary-2-color has-delta-font-size\n",
      "Tag: h2, Classes: wp-block-heading has-text-align-left has-shade-3-color has-text-color has-link-color has-tablet-gothic-semi-condensed-font-family has-echo-font-size wp-elements-0c0b61d1723a220e76f7bda3a15ba213\n",
      "Tag: h3, Classes: wp-block-heading has-primary-2-color has-text-color has-link-color has-echo-font-size wp-elements-058ff61a663a46491513edceb02a997d\n",
      "Tag: h3, Classes: wp-block-heading has-primary-2-color has-text-color has-link-color has-echo-font-size wp-elements-1ca3c74222c23a19f6a0c980517cbea6\n",
      "Tag: h3, Classes: wp-block-heading has-primary-2-color has-text-color has-link-color has-echo-font-size wp-elements-4bb9b2cb75bec2d94ada40b6e12a4a32\n",
      "Tag: h3, Classes: wp-block-heading has-primary-2-color has-text-color has-link-color has-echo-font-size wp-elements-6c04bb032494f76ec6d2622d9add2323\n",
      "Tag: h2, Classes: wp-block-heading has-text-align-left has-shade-3-color has-text-color has-link-color has-tablet-gothic-semi-condensed-font-family has-echo-font-size wp-elements-f20046f60e5f719235c33823ccdcf8da\n",
      "Tag: h2, Classes: has-link-color wp-elements-6d407f72afeb0ec6f30ec37eb658363c wp-block-post-title has-text-color has-primary-2-color has-bravo-font-size has-rocky-compressed-font-family\n",
      "Tag: h3, Classes: has-link-color wp-elements-0f48e05dfb26e6472651182d641f2a68 wp-block-post-title has-text-color has-primary-2-color has-delta-font-size has-rocky-condensed-font-family\n",
      "Tag: h3, Classes: has-link-color wp-elements-0f48e05dfb26e6472651182d641f2a68 wp-block-post-title has-text-color has-primary-2-color has-delta-font-size has-rocky-condensed-font-family\n",
      "Tag: h3, Classes: has-link-color wp-elements-0f48e05dfb26e6472651182d641f2a68 wp-block-post-title has-text-color has-primary-2-color has-delta-font-size has-rocky-condensed-font-family\n",
      "Tag: h2, Classes: wp-block-heading has-text-align-left has-shade-3-color has-text-color has-link-color has-tablet-gothic-semi-condensed-font-family has-echo-font-size wp-elements-b2172731b0c4291a92c13c860c8ec590\n",
      "Tag: h2, Classes: wp-block-post-title has-delta-font-size\n",
      "Tag: h3, Classes: has-link-color wp-elements-e896a7490fd683e9bade22141b930432 wp-block-post-title has-text-color has-primary-2-color has-delta-font-size has-rocky-condensed-font-family\n",
      "Tag: h3, Classes: has-link-color wp-elements-e896a7490fd683e9bade22141b930432 wp-block-post-title has-text-color has-primary-2-color has-delta-font-size has-rocky-condensed-font-family\n",
      "Tag: h3, Classes: has-link-color wp-elements-e896a7490fd683e9bade22141b930432 wp-block-post-title has-text-color has-primary-2-color has-delta-font-size has-rocky-condensed-font-family\n",
      "Tag: h2, Classes: has-link-color wp-elements-6d407f72afeb0ec6f30ec37eb658363c wp-block-post-title has-text-color has-primary-2-color has-bravo-font-size has-rocky-compressed-font-family\n",
      "Tag: h3, Classes: wp-block-heading has-delta-font-size\n",
      "Tag: h2, Classes: wp-block-heading has-text-align-center has-shade-3-color has-text-color has-link-color has-tablet-gothic-condensed-font-family has-bravo-font-size wp-elements-7b6ceb931ce0f8a673316e6c9d981d89\n",
      "Tag: h2, Classes: wp-block-heading has-text-align-left has-shade-3-color has-text-color has-link-color has-tablet-gothic-semi-condensed-font-family has-echo-font-size wp-elements-01a3e9b247e10141318b25af39d2fc7d\n",
      "Tag: h2, Classes: has-link-color wp-elements-6d407f72afeb0ec6f30ec37eb658363c wp-block-post-title has-text-color has-primary-2-color has-bravo-font-size has-rocky-compressed-font-family\n",
      "Tag: h3, Classes: has-link-color wp-elements-0f48e05dfb26e6472651182d641f2a68 wp-block-post-title has-text-color has-primary-2-color has-delta-font-size has-rocky-condensed-font-family\n",
      "Tag: h3, Classes: has-link-color wp-elements-0f48e05dfb26e6472651182d641f2a68 wp-block-post-title has-text-color has-primary-2-color has-delta-font-size has-rocky-condensed-font-family\n",
      "Tag: h3, Classes: has-link-color wp-elements-0f48e05dfb26e6472651182d641f2a68 wp-block-post-title has-text-color has-primary-2-color has-delta-font-size has-rocky-condensed-font-family\n",
      "Tag: h2, Classes: wp-block-heading has-text-align-left has-shade-3-color has-text-color has-link-color has-tablet-gothic-semi-condensed-font-family has-echo-font-size wp-elements-9c3c04a55a2f12501734f97dfb5496b7\n",
      "Tag: h2, Classes: wp-block-post-title has-delta-font-size\n",
      "Tag: h3, Classes: has-link-color wp-elements-e896a7490fd683e9bade22141b930432 wp-block-post-title has-text-color has-primary-2-color has-delta-font-size has-rocky-condensed-font-family\n",
      "Tag: h3, Classes: has-link-color wp-elements-e896a7490fd683e9bade22141b930432 wp-block-post-title has-text-color has-primary-2-color has-delta-font-size has-rocky-condensed-font-family\n",
      "Tag: h2, Classes: has-link-color wp-elements-6d407f72afeb0ec6f30ec37eb658363c wp-block-post-title has-text-color has-primary-2-color has-bravo-font-size has-rocky-compressed-font-family\n",
      "Tag: h2, Classes: wp-block-heading has-text-align-center has-shade-3-color has-text-color has-link-color has-tablet-gothic-condensed-font-family has-charlie-font-size wp-elements-9ed0e76c9abb278be7cc43c3690b5e16\n",
      "Tag: h2, Classes: wp-block-heading has-primary-2-color has-text-color has-link-color has-tablet-gothic-semi-condensed-font-family has-charlie-font-size wp-elements-ac9ca578b9ef7430d7135a4982dd873b\n",
      "Tag: h2, Classes: wp-block-heading has-text-align-left has-shade-3-color has-text-color has-link-color has-tablet-gothic-semi-condensed-font-family has-echo-font-size wp-elements-be8cdbd13441aa37082858d1a3b65ed5\n",
      "Tag: h2, Classes: has-link-color wp-elements-6d407f72afeb0ec6f30ec37eb658363c wp-block-post-title has-text-color has-primary-2-color has-bravo-font-size has-rocky-compressed-font-family\n",
      "Tag: h3, Classes: has-link-color wp-elements-0f48e05dfb26e6472651182d641f2a68 wp-block-post-title has-text-color has-primary-2-color has-delta-font-size has-rocky-condensed-font-family\n",
      "Tag: h3, Classes: has-link-color wp-elements-0f48e05dfb26e6472651182d641f2a68 wp-block-post-title has-text-color has-primary-2-color has-delta-font-size has-rocky-condensed-font-family\n",
      "Tag: h3, Classes: has-link-color wp-elements-0f48e05dfb26e6472651182d641f2a68 wp-block-post-title has-text-color has-primary-2-color has-delta-font-size has-rocky-condensed-font-family\n",
      "Tag: h2, Classes: wp-block-heading has-text-align-left has-shade-3-color has-text-color has-link-color has-tablet-gothic-semi-condensed-font-family has-echo-font-size wp-elements-09aa24d9c40738688c9ad863c686928e\n",
      "Tag: h3, Classes: has-link-color wp-elements-e343eec0e33ee92ef2dd7e8c5a85de9a wp-block-post-title has-text-color has-primary-2-color has-delta-font-size has-rocky-condensed-font-family\n",
      "Tag: h3, Classes: has-link-color wp-elements-e343eec0e33ee92ef2dd7e8c5a85de9a wp-block-post-title has-text-color has-primary-2-color has-delta-font-size has-rocky-condensed-font-family\n",
      "Tag: h3, Classes: has-link-color wp-elements-e343eec0e33ee92ef2dd7e8c5a85de9a wp-block-post-title has-text-color has-primary-2-color has-delta-font-size has-rocky-condensed-font-family\n",
      "Tag: h3, Classes: has-link-color wp-elements-e343eec0e33ee92ef2dd7e8c5a85de9a wp-block-post-title has-text-color has-primary-2-color has-delta-font-size has-rocky-condensed-font-family\n",
      "Tag: h2, Classes: wp-block-heading has-text-align-left has-shade-3-color has-text-color has-link-color has-tablet-gothic-semi-condensed-font-family has-echo-font-size wp-elements-19db831315615b6ddb9b229afeabca87\n",
      "Tag: h3, Classes: has-link-color wp-elements-bf999a866a798afb1c30d30d89121a94 wp-block-post-title has-text-color has-primary-2-color has-delta-font-size\n",
      "Tag: h3, Classes: wp-block-post-title has-delta-font-size\n",
      "Tag: h2, Classes: wp-block-heading has-shade-3-color has-text-color has-link-color has-rocky-compressed-font-family has-charlie-font-size wp-elements-a68a49898305eef3fc958a7a9f89a675\n",
      "Tag: h2, Classes: wp-block-heading has-shade-3-color has-text-color has-link-color has-rocky-compressed-font-family has-charlie-font-size wp-elements-661655b905a975594106a0854d32e64a\n"
     ]
    }
   ],
   "source": [
    "import requests\n",
    "from bs4 import BeautifulSoup\n",
    "\n",
    "# URL of The Onion\n",
    "url = \"https://www.theonion.com/\"\n",
    "\n",
    "# Send request and get content\n",
    "headers = {\"User-Agent\": \"Mozilla/5.0\"}\n",
    "response = requests.get(url, headers=headers)\n",
    "\n",
    "if response.status_code == 200:\n",
    "    soup = BeautifulSoup(response.text, \"html.parser\")\n",
    "    \n",
    "    # Find all headline elements (usually h2 or h3)\n",
    "    headline_tags = soup.find_all([\"h1\", \"h2\", \"h3\", \"h4\"])  # Checking common headline tags\n",
    "\n",
    "    # Extract and print classes of headline elements\n",
    "    for tag in headline_tags:\n",
    "        if tag.has_attr(\"class\"):\n",
    "            print(f\"Tag: {tag.name}, Classes: {' '.join(tag['class'])}\")\n",
    "else:\n",
    "    print(\"Failed to fetch the webpage\")\n"
   ]
  },
  {
   "cell_type": "code",
   "execution_count": 9,
   "metadata": {},
   "outputs": [
    {
     "name": "stdout",
     "output_type": "stream",
     "text": [
      "1\n"
     ]
    }
   ],
   "source": [
    "import requests\n",
    "from bs4 import BeautifulSoup\n",
    "\n",
    "# URL of The Onion\n",
    "url = \"https://www.theonion.com/\"\n",
    "\n",
    "# Target class string\n",
    "target_class = \"has-link-color wp-elements-6e2a65dd12acc40980a1d5257b20a387 wp-block-post-title has-text-color has-primary-2-color has-bravo-font-size has-rocky-compressed-font-family\"\n",
    "\n",
    "# Send request and get content\n",
    "headers = {\"User-Agent\": \"Mozilla/5.0\"}\n",
    "response = requests.get(url, headers=headers)\n",
    "\n",
    "if response.status_code == 200:\n",
    "    soup = BeautifulSoup(response.text, \"html.parser\")\n",
    "    \n",
    "    # Extract all class names (as sets)\n",
    "    classes = set()\n",
    "    for tag in soup.find_all(True):  # Find all tags\n",
    "        if tag.has_attr(\"class\"):  # If the tag has a class attribute\n",
    "            class_str = \" \".join(tag[\"class\"])  # Convert list to space-separated string\n",
    "            classes.add(class_str)\n",
    "    \n",
    "    # Check if target class string exists\n",
    "    if target_class in classes:\n",
    "        print(1)\n",
    "    else:\n",
    "        print(0)\n",
    "else:\n",
    "    print(\"Failed to fetch the webpage\")\n"
   ]
  },
  {
   "cell_type": "code",
   "execution_count": null,
   "metadata": {},
   "outputs": [
    {
     "name": "stdout",
     "output_type": "stream",
     "text": [
      "Tag: h1, Classes: has-link-color wp-elements-6e2a65dd12acc40980a1d5257b20a387 wp-block-post-title has-text-color has-primary-2-color has-bravo-font-size has-rocky-compressed-font-family\n"
     ]
    }
   ],
   "source": [
    "import requests\n",
    "from bs4 import BeautifulSoup\n",
    "\n",
    "# URL of The Onion\n",
    "url = \"https://www.theonion.com/\"\n",
    "\n",
    "# Send request and get content\n",
    "headers = {\"User-Agent\": \"Mozilla/5.0\"}\n",
    "response = requests.get(url, headers=headers)\n",
    "\n",
    "if response.status_code == 200:\n",
    "    soup = BeautifulSoup(response.text, \"html.parser\")\n",
    "    \n",
    "    # Find all headline elements (usually h2 or h3)\n",
    "    headline_tags = soup.find_all([\"h1\", \"h2\", \"h3\", \"h4\"])  # Checking common headline tags\n",
    "    headline_tags = soup.find_all([\"h1\"])  # Checking common headline tags\n",
    "\n",
    "    # Extract and print classes of headline elements\n",
    "    for tag in headline_tags:\n",
    "        if tag.has_attr(\"class\"):\n",
    "            print(f\"Tag: {tag.name}, Classes: {' '.join(tag['class'])}\")\n",
    "else:\n",
    "    print(\"Failed to fetch the webpage\")\n"
   ]
  }
 ],
 "metadata": {
  "kernelspec": {
   "display_name": "base",
   "language": "python",
   "name": "python3"
  },
  "language_info": {
   "codemirror_mode": {
    "name": "ipython",
    "version": 3
   },
   "file_extension": ".py",
   "mimetype": "text/x-python",
   "name": "python",
   "nbconvert_exporter": "python",
   "pygments_lexer": "ipython3",
   "version": "3.11.7"
  }
 },
 "nbformat": 4,
 "nbformat_minor": 2
}
